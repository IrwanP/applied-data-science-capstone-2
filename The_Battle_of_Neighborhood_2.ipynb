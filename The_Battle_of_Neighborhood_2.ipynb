{
 "cells": [
  {
   "cell_type": "markdown",
   "metadata": {},
   "source": [
    "# The Battle of Suburbs #\n",
    "### *Picking up a location in Sydney for opening a new restaurant*"
   ]
  },
  {
   "cell_type": "markdown",
   "metadata": {},
   "source": [
    "#### 2. DATA"
   ]
  },
  {
   "cell_type": "markdown",
   "metadata": {},
   "source": [
    "Synthesised from *Start Your Own Restaurant and More: Pizzeria, Cofeehouse, Deli, Bakery, Catering Business* published by [Entrepreneur Press](https://www.entrepreneur.com/article/73384 \"How to Start a Restaurant\"), the following components are deemed as key factors in selecting restaurant location: demographics, traffic density, crime rates, competitor, and property affordability. We could actually address some of these considerations using available public datasets. \n",
    "\n",
    "1. [**NSW_suburb.geojson**](https://data.gov.au/dataset/ds-dga-91e70237-d9d1-4719-a82f-e71b811154c6/details)\n",
    "For mapping suburb boundries and calculating suburb centres.\n",
    "2. [**SydneySuburb_Postcodes.csv**](https://www.prospectshop.com.au/Files/SydneyMetro_Postcodes.xls)\n",
    "For selecting Sydney suburb coordinates from NSW_suburb.geojson.\n",
    "3. [**Sydney_property_price.csv**]()\n",
    "For plotting property affordability of each suburb.\n",
    "4. [**Sydney_demography_by_suburb.csv**]()\n",
    "For plotting demographics of each suburb.\n",
    "5. [**NSW_Crime_record_2018_by_suburb.csv**](https://www.bocsar.nsw.gov.au/Pages/bocsar_datasets/Datasets-.aspx)\n",
    "For plotting crime rate of each suburb.\n",
    "6. [**Sydney_venues.csv**]()\n",
    "List of venues of each suburb. Generated from *Foursquare* API."
   ]
  }
 ],
 "metadata": {
  "kernelspec": {
   "display_name": "Python 3",
   "language": "python",
   "name": "python3"
  },
  "language_info": {
   "codemirror_mode": {
    "name": "ipython",
    "version": 3
   },
   "file_extension": ".py",
   "mimetype": "text/x-python",
   "name": "python",
   "nbconvert_exporter": "python",
   "pygments_lexer": "ipython3",
   "version": "3.6.7"
  }
 },
 "nbformat": 4,
 "nbformat_minor": 4
}
